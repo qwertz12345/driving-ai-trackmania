{
 "cells": [
  {
   "cell_type": "code",
   "execution_count": null,
   "metadata": {},
   "outputs": [],
   "source": [
    "import re\n",
    "import pandas as pd\n",
    "from pathlib import Path"
   ]
  },
  {
   "cell_type": "code",
   "execution_count": 141,
   "metadata": {},
   "outputs": [
    {
     "data": {
      "text/plain": [
       "W     4517\nAW    1789\nDW     526\nA      152\n       117\ndtype: int64"
      ]
     },
     "execution_count": 141,
     "metadata": {},
     "output_type": "execute_result"
    }
   ],
   "source": [
    "runs = [\"a01_20180613-210459\", \"a01_20180630-145441\", \"a01_20180630-145845\"]\n",
    "base_dir = Path(r\"E:\\Trackmania Data\\data\")\n",
    "run_paths = [base_dir / Path(run) for run in runs]\n",
    "\n",
    "keys_pressed = []\n",
    "\n",
    "for p in run_paths:\n",
    "    with (p / Path(\"keys_timings.txt\")).open(\"r\") as text_file:\n",
    "        for line in text_file.readlines():\n",
    "            keys_pressed.append(re.sub(r\"[\\[\\],' ]\", '', re.findall(\"\\[.*\\]\", line)[0]))\n",
    "ser = pd.Series(keys_pressed)\n",
    "\n",
    "ser.value_counts()"
   ]
  },
  {
   "cell_type": "code",
   "execution_count": 144,
   "metadata": {},
   "outputs": [
    {
     "data": {
      "text/plain": [
       "['W', 'W', 'W', 'DW', 'DW', 'DW', 'DW', 'DW', 'W', 'W', 'W']"
      ]
     },
     "execution_count": 144,
     "metadata": {},
     "output_type": "execute_result"
    }
   ],
   "source": [
    "keys_pressed[25:36]"
   ]
  },
  {
   "cell_type": "code",
   "execution_count": null,
   "metadata": {},
   "outputs": [],
   "source": []
  }
 ],
 "metadata": {
  "kernelspec": {
   "display_name": "Python 3",
   "language": "python",
   "name": "python3"
  },
  "language_info": {
   "codemirror_mode": {
    "name": "ipython",
    "version": 3
   },
   "file_extension": ".py",
   "mimetype": "text/x-python",
   "name": "python",
   "nbconvert_exporter": "python",
   "pygments_lexer": "ipython3",
   "version": "3.6.5"
  }
 },
 "nbformat": 4,
 "nbformat_minor": 1
}
