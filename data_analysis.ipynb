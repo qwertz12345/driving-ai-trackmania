{
 "cells": [
  {
   "cell_type": "code",
   "execution_count": 1,
   "metadata": {},
   "outputs": [
    {
     "name": "stderr",
     "output_type": "stream",
     "text": [
      "C:\\Users\\mivog\\AppData\\Local\\Programs\\Python\\Python36\\lib\\site-packages\\h5py\\__init__.py:34: FutureWarning: Conversion of the second argument of issubdtype from `float` to `np.floating` is deprecated. In future, it will be treated as `np.float64 == np.dtype(float).type`.\n  from ._conv import register_converters as _register_converters\nUsing TensorFlow backend.\n"
     ]
    }
   ],
   "source": [
    "import os\n",
    "\n",
    "import matplotlib.pyplot as plt\n",
    "import numpy as np\n",
    "import pandas as pd\n",
    "from PIL import Image\n",
    "from keras.models import load_model\n",
    "from recognize_numbers import recognize\n"
   ]
  },
  {
   "cell_type": "code",
   "execution_count": 2,
   "metadata": {},
   "outputs": [
    {
     "name": "stdout",
     "output_type": "stream",
     "text": [
      "Loading data\n"
     ]
    },
    {
     "name": "stdout",
     "output_type": "stream",
     "text": [
      "Data with length 2185 loaded\n"
     ]
    }
   ],
   "source": [
    "def load_data(training_data_directory):\n",
    "    print(\"Loading data\")\n",
    "    file_name = os.path.join(training_data_directory, \"test_data-1.npy\")\n",
    "    training_data_ = np.load(file_name)\n",
    "    print(\"Data with length\", len(training_data_), \"loaded\")\n",
    "    return training_data_\n",
    "\n",
    "\n",
    "training_data = load_data(r\"E:\\Trackmania Data\\training_data_new\")\n"
   ]
  },
  {
   "cell_type": "code",
   "execution_count": 3,
   "metadata": {},
   "outputs": [],
   "source": [
    "velocity_images = training_data[:, 1]\n",
    "img_digits = [Image.new(\"RGB\", (18, 32)) for _ in range(3 * len(velocity_images))] \n",
    "for i in range(len(velocity_images)):\n",
    "    img_digits[3 * i].paste(Image.fromarray(velocity_images[i][:, :18]))\n",
    "    img_digits[3 * i + 1].paste(Image.fromarray(velocity_images[i][:, 17:35]))\n",
    "    img_digits[3 * i + 2].paste(Image.fromarray(velocity_images[i][:, 35:53]))\n",
    "img_digits = [np.asarray(e) for e in img_digits]"
   ]
  },
  {
   "cell_type": "code",
   "execution_count": 4,
   "metadata": {},
   "outputs": [],
   "source": [
    "velo_recognition_model = load_model(r\"C:\\Users\\mivog\\PycharmProjects\\driving ai trackmania\\velocity_recognition-100.h5\")\n"
   ]
  },
  {
   "cell_type": "code",
   "execution_count": 5,
   "metadata": {},
   "outputs": [],
   "source": [
    "digits_with_confidence_value = recognize(np.array(img_digits)/255, velo_recognition_model)"
   ]
  },
  {
   "cell_type": "code",
   "execution_count": 6,
   "metadata": {},
   "outputs": [
    {
     "data": {
      "text/plain": [
       "[0.9999838, 0.95069075, 1.0, 0.9999838]"
      ]
     },
     "execution_count": 6,
     "metadata": {},
     "output_type": "execute_result"
    }
   ],
   "source": [
    "confidences = [e[1] for e in digits_with_confidence_value] \n",
    "confidences[2:6]"
   ]
  },
  {
   "cell_type": "code",
   "execution_count": 7,
   "metadata": {},
   "outputs": [
    {
     "data": {
      "text/plain": [
       "0.9441895"
      ]
     },
     "execution_count": 7,
     "metadata": {},
     "output_type": "execute_result"
    }
   ],
   "source": [
    "min(confidences)"
   ]
  },
  {
   "cell_type": "code",
   "execution_count": 8,
   "metadata": {},
   "outputs": [],
   "source": [
    "velocities = [int('{}{}{}'.format(digits_with_confidence_value[3 * i][0], digits_with_confidence_value[3 * i + 1][0],\n",
    "                                  digits_with_confidence_value[3 * i + 2][0]))\n",
    "              for i in range(len(velocity_images))]\n"
   ]
  },
  {
   "cell_type": "code",
   "execution_count": 9,
   "metadata": {},
   "outputs": [],
   "source": [
    "velocities = velocities[22:]\n",
    "training_data = training_data[22:]\n",
    "assert len(velocities) == len(training_data)"
   ]
  },
  {
   "cell_type": "code",
   "execution_count": 10,
   "metadata": {},
   "outputs": [],
   "source": [
    "key_presses = training_data[:, 2]"
   ]
  },
  {
   "cell_type": "code",
   "execution_count": 11,
   "metadata": {},
   "outputs": [],
   "source": [
    "def one_hot(keys):\n",
    "    key_dict = {\n",
    "        \"W\": 0,\n",
    "        \"S\": 1,\n",
    "        \"A\": 2,\n",
    "        \"D\": 3\n",
    "    }\n",
    "    ar = [0] * 4\n",
    "    for key in keys:\n",
    "        ar[key_dict[key]] = 1\n",
    "    return ar"
   ]
  },
  {
   "cell_type": "code",
   "execution_count": 12,
   "metadata": {},
   "outputs": [],
   "source": [
    "key_presses_one_hot = [one_hot(e) for e in key_presses]"
   ]
  },
  {
   "cell_type": "code",
   "execution_count": 13,
   "metadata": {},
   "outputs": [],
   "source": [
    "da = pd.DataFrame({'Velocities': pd.Series(velocities), \"W\": pd.Series([e[0] for e in key_presses_one_hot]),\n",
    "                   \"S\": pd.Series([e[1] for e in key_presses_one_hot]),\n",
    "                   \"A\": pd.Series([e[2] for e in key_presses_one_hot]),\n",
    "                   \"D\": pd.Series([e[3] for e in key_presses_one_hot])})\n"
   ]
  },
  {
   "cell_type": "code",
   "execution_count": 14,
   "metadata": {},
   "outputs": [
    {
     "data": {
      "text/html": [
       "<div>\n",
       "<style scoped>\n",
       "    .dataframe tbody tr th:only-of-type {\n",
       "        vertical-align: middle;\n",
       "    }\n",
       "\n",
       "    .dataframe tbody tr th {\n",
       "        vertical-align: top;\n",
       "    }\n",
       "\n",
       "    .dataframe thead th {\n",
       "        text-align: right;\n",
       "    }\n",
       "</style>\n",
       "<table border=\"1\" class=\"dataframe\">\n",
       "  <thead>\n",
       "    <tr style=\"text-align: right;\">\n",
       "      <th></th>\n",
       "      <th>A</th>\n",
       "      <th>D</th>\n",
       "      <th>S</th>\n",
       "      <th>Velocities</th>\n",
       "      <th>W</th>\n",
       "    </tr>\n",
       "  </thead>\n",
       "  <tbody>\n",
       "    <tr>\n",
       "      <th>count</th>\n",
       "      <td>2163.000000</td>\n",
       "      <td>2163.000000</td>\n",
       "      <td>2163.0</td>\n",
       "      <td>2163.000000</td>\n",
       "      <td>2163.000000</td>\n",
       "    </tr>\n",
       "    <tr>\n",
       "      <th>mean</th>\n",
       "      <td>0.248266</td>\n",
       "      <td>0.039760</td>\n",
       "      <td>0.0</td>\n",
       "      <td>321.095700</td>\n",
       "      <td>0.978733</td>\n",
       "    </tr>\n",
       "    <tr>\n",
       "      <th>std</th>\n",
       "      <td>0.432107</td>\n",
       "      <td>0.195439</td>\n",
       "      <td>0.0</td>\n",
       "      <td>102.122456</td>\n",
       "      <td>0.144306</td>\n",
       "    </tr>\n",
       "    <tr>\n",
       "      <th>min</th>\n",
       "      <td>0.000000</td>\n",
       "      <td>0.000000</td>\n",
       "      <td>0.0</td>\n",
       "      <td>77.000000</td>\n",
       "      <td>0.000000</td>\n",
       "    </tr>\n",
       "    <tr>\n",
       "      <th>25%</th>\n",
       "      <td>0.000000</td>\n",
       "      <td>0.000000</td>\n",
       "      <td>0.0</td>\n",
       "      <td>249.000000</td>\n",
       "      <td>1.000000</td>\n",
       "    </tr>\n",
       "    <tr>\n",
       "      <th>50%</th>\n",
       "      <td>0.000000</td>\n",
       "      <td>0.000000</td>\n",
       "      <td>0.0</td>\n",
       "      <td>348.000000</td>\n",
       "      <td>1.000000</td>\n",
       "    </tr>\n",
       "    <tr>\n",
       "      <th>75%</th>\n",
       "      <td>0.000000</td>\n",
       "      <td>0.000000</td>\n",
       "      <td>0.0</td>\n",
       "      <td>401.000000</td>\n",
       "      <td>1.000000</td>\n",
       "    </tr>\n",
       "    <tr>\n",
       "      <th>max</th>\n",
       "      <td>1.000000</td>\n",
       "      <td>1.000000</td>\n",
       "      <td>0.0</td>\n",
       "      <td>484.000000</td>\n",
       "      <td>1.000000</td>\n",
       "    </tr>\n",
       "  </tbody>\n",
       "</table>\n",
       "</div>"
      ],
      "text/plain": [
       "<div>\n",
       "<style scoped>\n",
       "    .dataframe tbody tr th:only-of-type {\n",
       "        vertical-align: middle;\n",
       "    }\n",
       "\n",
       "    .dataframe tbody tr th {\n",
       "        vertical-align: top;\n",
       "    }\n",
       "\n",
       "    .dataframe thead th {\n",
       "        text-align: right;\n",
       "    }\n",
       "</style>\n",
       "<table border=\"1\" class=\"dataframe\">\n",
       "  <thead>\n",
       "    <tr style=\"text-align: right;\">\n",
       "      <th></th>\n",
       "      <th>A</th>\n",
       "      <th>D</th>\n",
       "      <th>S</th>\n",
       "      <th>Velocities</th>\n",
       "      <th>W</th>\n",
       "    </tr>\n",
       "  </thead>\n",
       "  <tbody>\n",
       "    <tr>\n",
       "      <th>count</th>\n",
       "      <td>2163.000000</td>\n",
       "      <td>2163.000000</td>\n",
       "      <td>2163.0</td>\n",
       "      <td>2163.000000</td>\n",
       "      <td>2163.000000</td>\n",
       "    </tr>\n",
       "    <tr>\n",
       "      <th>mean</th>\n",
       "      <td>0.248266</td>\n",
       "      <td>0.039760</td>\n",
       "      <td>0.0</td>\n",
       "      <td>321.095700</td>\n",
       "      <td>0.978733</td>\n",
       "    </tr>\n",
       "    <tr>\n",
       "      <th>std</th>\n",
       "      <td>0.432107</td>\n",
       "      <td>0.195439</td>\n",
       "      <td>0.0</td>\n",
       "      <td>102.122456</td>\n",
       "      <td>0.144306</td>\n",
       "    </tr>\n",
       "    <tr>\n",
       "      <th>min</th>\n",
       "      <td>0.000000</td>\n",
       "      <td>0.000000</td>\n",
       "      <td>0.0</td>\n",
       "      <td>77.000000</td>\n",
       "      <td>0.000000</td>\n",
       "    </tr>\n",
       "    <tr>\n",
       "      <th>25%</th>\n",
       "      <td>0.000000</td>\n",
       "      <td>0.000000</td>\n",
       "      <td>0.0</td>\n",
       "      <td>249.000000</td>\n",
       "      <td>1.000000</td>\n",
       "    </tr>\n",
       "    <tr>\n",
       "      <th>50%</th>\n",
       "      <td>0.000000</td>\n",
       "      <td>0.000000</td>\n",
       "      <td>0.0</td>\n",
       "      <td>348.000000</td>\n",
       "      <td>1.000000</td>\n",
       "    </tr>\n",
       "    <tr>\n",
       "      <th>75%</th>\n",
       "      <td>0.000000</td>\n",
       "      <td>0.000000</td>\n",
       "      <td>0.0</td>\n",
       "      <td>401.000000</td>\n",
       "      <td>1.000000</td>\n",
       "    </tr>\n",
       "    <tr>\n",
       "      <th>max</th>\n",
       "      <td>1.000000</td>\n",
       "      <td>1.000000</td>\n",
       "      <td>0.0</td>\n",
       "      <td>484.000000</td>\n",
       "      <td>1.000000</td>\n",
       "    </tr>\n",
       "  </tbody>\n",
       "</table>\n",
       "</div>"
      ]
     },
     "execution_count": 14,
     "metadata": {},
     "output_type": "execute_result"
    }
   ],
   "source": [
    "da.describe()"
   ]
  },
  {
   "cell_type": "code",
   "execution_count": 15,
   "metadata": {},
   "outputs": [
    {
     "data": {
      "text/html": [
       "<div>\n",
       "<style scoped>\n",
       "    .dataframe tbody tr th:only-of-type {\n",
       "        vertical-align: middle;\n",
       "    }\n",
       "\n",
       "    .dataframe tbody tr th {\n",
       "        vertical-align: top;\n",
       "    }\n",
       "\n",
       "    .dataframe thead th {\n",
       "        text-align: right;\n",
       "    }\n",
       "</style>\n",
       "<table border=\"1\" class=\"dataframe\">\n",
       "  <thead>\n",
       "    <tr style=\"text-align: right;\">\n",
       "      <th></th>\n",
       "      <th>A</th>\n",
       "      <th>D</th>\n",
       "      <th>S</th>\n",
       "      <th>Velocities</th>\n",
       "      <th>W</th>\n",
       "    </tr>\n",
       "  </thead>\n",
       "  <tbody>\n",
       "    <tr>\n",
       "      <th>A</th>\n",
       "      <td>1.000000</td>\n",
       "      <td>-0.116939</td>\n",
       "      <td>NaN</td>\n",
       "      <td>0.192482</td>\n",
       "      <td>-0.211996</td>\n",
       "    </tr>\n",
       "    <tr>\n",
       "      <th>D</th>\n",
       "      <td>-0.116939</td>\n",
       "      <td>1.000000</td>\n",
       "      <td>NaN</td>\n",
       "      <td>-0.115067</td>\n",
       "      <td>0.029995</td>\n",
       "    </tr>\n",
       "    <tr>\n",
       "      <th>S</th>\n",
       "      <td>NaN</td>\n",
       "      <td>NaN</td>\n",
       "      <td>NaN</td>\n",
       "      <td>NaN</td>\n",
       "      <td>NaN</td>\n",
       "    </tr>\n",
       "    <tr>\n",
       "      <th>Velocities</th>\n",
       "      <td>0.192482</td>\n",
       "      <td>-0.115067</td>\n",
       "      <td>NaN</td>\n",
       "      <td>1.000000</td>\n",
       "      <td>-0.057487</td>\n",
       "    </tr>\n",
       "    <tr>\n",
       "      <th>W</th>\n",
       "      <td>-0.211996</td>\n",
       "      <td>0.029995</td>\n",
       "      <td>NaN</td>\n",
       "      <td>-0.057487</td>\n",
       "      <td>1.000000</td>\n",
       "    </tr>\n",
       "  </tbody>\n",
       "</table>\n",
       "</div>"
      ],
      "text/plain": [
       "<div>\n",
       "<style scoped>\n",
       "    .dataframe tbody tr th:only-of-type {\n",
       "        vertical-align: middle;\n",
       "    }\n",
       "\n",
       "    .dataframe tbody tr th {\n",
       "        vertical-align: top;\n",
       "    }\n",
       "\n",
       "    .dataframe thead th {\n",
       "        text-align: right;\n",
       "    }\n",
       "</style>\n",
       "<table border=\"1\" class=\"dataframe\">\n",
       "  <thead>\n",
       "    <tr style=\"text-align: right;\">\n",
       "      <th></th>\n",
       "      <th>A</th>\n",
       "      <th>D</th>\n",
       "      <th>S</th>\n",
       "      <th>Velocities</th>\n",
       "      <th>W</th>\n",
       "    </tr>\n",
       "  </thead>\n",
       "  <tbody>\n",
       "    <tr>\n",
       "      <th>A</th>\n",
       "      <td>1.000000</td>\n",
       "      <td>-0.116939</td>\n",
       "      <td>NaN</td>\n",
       "      <td>0.192482</td>\n",
       "      <td>-0.211996</td>\n",
       "    </tr>\n",
       "    <tr>\n",
       "      <th>D</th>\n",
       "      <td>-0.116939</td>\n",
       "      <td>1.000000</td>\n",
       "      <td>NaN</td>\n",
       "      <td>-0.115067</td>\n",
       "      <td>0.029995</td>\n",
       "    </tr>\n",
       "    <tr>\n",
       "      <th>S</th>\n",
       "      <td>NaN</td>\n",
       "      <td>NaN</td>\n",
       "      <td>NaN</td>\n",
       "      <td>NaN</td>\n",
       "      <td>NaN</td>\n",
       "    </tr>\n",
       "    <tr>\n",
       "      <th>Velocities</th>\n",
       "      <td>0.192482</td>\n",
       "      <td>-0.115067</td>\n",
       "      <td>NaN</td>\n",
       "      <td>1.000000</td>\n",
       "      <td>-0.057487</td>\n",
       "    </tr>\n",
       "    <tr>\n",
       "      <th>W</th>\n",
       "      <td>-0.211996</td>\n",
       "      <td>0.029995</td>\n",
       "      <td>NaN</td>\n",
       "      <td>-0.057487</td>\n",
       "      <td>1.000000</td>\n",
       "    </tr>\n",
       "  </tbody>\n",
       "</table>\n",
       "</div>"
      ]
     },
     "execution_count": 15,
     "metadata": {},
     "output_type": "execute_result"
    }
   ],
   "source": [
    "da.corr()"
   ]
  },
  {
   "cell_type": "code",
   "execution_count": 16,
   "metadata": {},
   "outputs": [],
   "source": [
    "plt.imshow(training_data[0, 0])\n",
    "plt.show()\n"
   ]
  },
  {
   "cell_type": "code",
   "execution_count": 17,
   "metadata": {},
   "outputs": [],
   "source": [
    "plt.plot(velocities)\n",
    "plt.show()"
   ]
  },
  {
   "cell_type": "code",
   "execution_count": 18,
   "metadata": {},
   "outputs": [],
   "source": [
    "velocities_diff = np.diff(velocities)\n"
   ]
  },
  {
   "cell_type": "code",
   "execution_count": 19,
   "metadata": {},
   "outputs": [],
   "source": [
    "plt.plot(velocities_diff)\n",
    "# plt.ylim([-5, 5])\n",
    "plt.show()"
   ]
  },
  {
   "cell_type": "code",
   "execution_count": 20,
   "metadata": {},
   "outputs": [
    {
     "data": {
      "text/plain": [
       "0.13506012950971322"
      ]
     },
     "execution_count": 20,
     "metadata": {},
     "output_type": "execute_result"
    }
   ],
   "source": [
    "np.mean(velocities_diff)"
   ]
  },
  {
   "cell_type": "code",
   "execution_count": 32,
   "metadata": {},
   "outputs": [
    {
     "name": "stdout",
     "output_type": "stream",
     "text": [
      "number of bins: 18\n[ 77.          99.61111111 122.22222222 144.83333333 167.44444444\n 190.05555556 212.66666667 235.27777778 257.88888889 280.5\n 303.11111111 325.72222222 348.33333333 370.94444444 393.55555556\n 416.16666667 438.77777778 461.38888889 484.        ]\n"
     ]
    }
   ],
   "source": [
    "# binned, bin_edges = np.histogram(velocities, bins=\"auto\") \n",
    "n, bin_edges, _ = plt.hist(velocities, 'auto')\n",
    "# plt.show()\n",
    "number_bins = len(bin_edges) - 1\n",
    "print(\"number of bins:\", number_bins)\n",
    "print(bin_edges)\n",
    "plt.show()"
   ]
  },
  {
   "cell_type": "code",
   "execution_count": 22,
   "metadata": {},
   "outputs": [],
   "source": [
    "bin_ind = np.digitize(velocities, bin_edges) - 1\n",
    "for k, ind in enumerate(bin_ind):\n",
    "    if ind == number_bins:\n",
    "        bin_ind[k] -= 1 \n",
    "velocities_binned_one_hot = []\n",
    "for ind in bin_ind:\n",
    "    one_hot_vector = np.zeros(number_bins)\n",
    "    one_hot_vector[ind] = 1 \n",
    "    velocities_binned_one_hot.append(one_hot_vector)"
   ]
  },
  {
   "cell_type": "code",
   "execution_count": 23,
   "metadata": {},
   "outputs": [
    {
     "data": {
      "text/plain": [
       "1879"
      ]
     },
     "execution_count": 23,
     "metadata": {},
     "output_type": "execute_result"
    }
   ],
   "source": [
    "velocities.index(max(velocities))"
   ]
  },
  {
   "cell_type": "code",
   "execution_count": 24,
   "metadata": {},
   "outputs": [
    {
     "data": {
      "text/plain": [
       "array([0., 0., 0., 0., 0., 0., 0., 0., 0., 0., 0., 0., 0., 0., 0., 1., 0.,\n       0.])"
      ]
     },
     "execution_count": 24,
     "metadata": {},
     "output_type": "execute_result"
    }
   ],
   "source": [
    "velocities_binned_one_hot[824]"
   ]
  },
  {
   "cell_type": "code",
   "execution_count": 25,
   "metadata": {},
   "outputs": [],
   "source": [
    "da = pd.DataFrame({'Velocities': pd.Series(velocities), \n",
    "                   \"W\": pd.Series([e[0] for e in key_presses_one_hot]),\n",
    "                   \"S\": pd.Series([e[1] for e in key_presses_one_hot]),\n",
    "                   \"A\": pd.Series([e[2] for e in key_presses_one_hot]),\n",
    "                   \"D\": pd.Series([e[3] for e in key_presses_one_hot]),\n",
    "                   \"Velocities_binned\": pd.Series(np.digitize(velocities, bin_edges))})\n"
   ]
  },
  {
   "cell_type": "code",
   "execution_count": 26,
   "metadata": {},
   "outputs": [
    {
     "data": {
      "text/html": [
       "<div>\n",
       "<style scoped>\n",
       "    .dataframe tbody tr th:only-of-type {\n",
       "        vertical-align: middle;\n",
       "    }\n",
       "\n",
       "    .dataframe tbody tr th {\n",
       "        vertical-align: top;\n",
       "    }\n",
       "\n",
       "    .dataframe thead th {\n",
       "        text-align: right;\n",
       "    }\n",
       "</style>\n",
       "<table border=\"1\" class=\"dataframe\">\n",
       "  <thead>\n",
       "    <tr style=\"text-align: right;\">\n",
       "      <th></th>\n",
       "      <th>A</th>\n",
       "      <th>D</th>\n",
       "      <th>S</th>\n",
       "      <th>Velocities</th>\n",
       "      <th>Velocities_binned</th>\n",
       "      <th>W</th>\n",
       "    </tr>\n",
       "  </thead>\n",
       "  <tbody>\n",
       "    <tr>\n",
       "      <th>A</th>\n",
       "      <td>1.000000</td>\n",
       "      <td>-0.116939</td>\n",
       "      <td>NaN</td>\n",
       "      <td>0.192482</td>\n",
       "      <td>0.200229</td>\n",
       "      <td>-0.211996</td>\n",
       "    </tr>\n",
       "    <tr>\n",
       "      <th>D</th>\n",
       "      <td>-0.116939</td>\n",
       "      <td>1.000000</td>\n",
       "      <td>NaN</td>\n",
       "      <td>-0.115067</td>\n",
       "      <td>-0.117138</td>\n",
       "      <td>0.029995</td>\n",
       "    </tr>\n",
       "    <tr>\n",
       "      <th>S</th>\n",
       "      <td>NaN</td>\n",
       "      <td>NaN</td>\n",
       "      <td>NaN</td>\n",
       "      <td>NaN</td>\n",
       "      <td>NaN</td>\n",
       "      <td>NaN</td>\n",
       "    </tr>\n",
       "    <tr>\n",
       "      <th>Velocities</th>\n",
       "      <td>0.192482</td>\n",
       "      <td>-0.115067</td>\n",
       "      <td>NaN</td>\n",
       "      <td>1.000000</td>\n",
       "      <td>0.998010</td>\n",
       "      <td>-0.057487</td>\n",
       "    </tr>\n",
       "    <tr>\n",
       "      <th>Velocities_binned</th>\n",
       "      <td>0.200229</td>\n",
       "      <td>-0.117138</td>\n",
       "      <td>NaN</td>\n",
       "      <td>0.998010</td>\n",
       "      <td>1.000000</td>\n",
       "      <td>-0.055237</td>\n",
       "    </tr>\n",
       "    <tr>\n",
       "      <th>W</th>\n",
       "      <td>-0.211996</td>\n",
       "      <td>0.029995</td>\n",
       "      <td>NaN</td>\n",
       "      <td>-0.057487</td>\n",
       "      <td>-0.055237</td>\n",
       "      <td>1.000000</td>\n",
       "    </tr>\n",
       "  </tbody>\n",
       "</table>\n",
       "</div>"
      ],
      "text/plain": [
       "<div>\n",
       "<style scoped>\n",
       "    .dataframe tbody tr th:only-of-type {\n",
       "        vertical-align: middle;\n",
       "    }\n",
       "\n",
       "    .dataframe tbody tr th {\n",
       "        vertical-align: top;\n",
       "    }\n",
       "\n",
       "    .dataframe thead th {\n",
       "        text-align: right;\n",
       "    }\n",
       "</style>\n",
       "<table border=\"1\" class=\"dataframe\">\n",
       "  <thead>\n",
       "    <tr style=\"text-align: right;\">\n",
       "      <th></th>\n",
       "      <th>A</th>\n",
       "      <th>D</th>\n",
       "      <th>S</th>\n",
       "      <th>Velocities</th>\n",
       "      <th>Velocities_binned</th>\n",
       "      <th>W</th>\n",
       "    </tr>\n",
       "  </thead>\n",
       "  <tbody>\n",
       "    <tr>\n",
       "      <th>A</th>\n",
       "      <td>1.000000</td>\n",
       "      <td>-0.116939</td>\n",
       "      <td>NaN</td>\n",
       "      <td>0.192482</td>\n",
       "      <td>0.200229</td>\n",
       "      <td>-0.211996</td>\n",
       "    </tr>\n",
       "    <tr>\n",
       "      <th>D</th>\n",
       "      <td>-0.116939</td>\n",
       "      <td>1.000000</td>\n",
       "      <td>NaN</td>\n",
       "      <td>-0.115067</td>\n",
       "      <td>-0.117138</td>\n",
       "      <td>0.029995</td>\n",
       "    </tr>\n",
       "    <tr>\n",
       "      <th>S</th>\n",
       "      <td>NaN</td>\n",
       "      <td>NaN</td>\n",
       "      <td>NaN</td>\n",
       "      <td>NaN</td>\n",
       "      <td>NaN</td>\n",
       "      <td>NaN</td>\n",
       "    </tr>\n",
       "    <tr>\n",
       "      <th>Velocities</th>\n",
       "      <td>0.192482</td>\n",
       "      <td>-0.115067</td>\n",
       "      <td>NaN</td>\n",
       "      <td>1.000000</td>\n",
       "      <td>0.998010</td>\n",
       "      <td>-0.057487</td>\n",
       "    </tr>\n",
       "    <tr>\n",
       "      <th>Velocities_binned</th>\n",
       "      <td>0.200229</td>\n",
       "      <td>-0.117138</td>\n",
       "      <td>NaN</td>\n",
       "      <td>0.998010</td>\n",
       "      <td>1.000000</td>\n",
       "      <td>-0.055237</td>\n",
       "    </tr>\n",
       "    <tr>\n",
       "      <th>W</th>\n",
       "      <td>-0.211996</td>\n",
       "      <td>0.029995</td>\n",
       "      <td>NaN</td>\n",
       "      <td>-0.057487</td>\n",
       "      <td>-0.055237</td>\n",
       "      <td>1.000000</td>\n",
       "    </tr>\n",
       "  </tbody>\n",
       "</table>\n",
       "</div>"
      ]
     },
     "execution_count": 26,
     "metadata": {},
     "output_type": "execute_result"
    }
   ],
   "source": [
    "da.corr()"
   ]
  },
  {
   "cell_type": "code",
   "execution_count": 27,
   "metadata": {},
   "outputs": [],
   "source": [
    ""
   ]
  },
  {
   "cell_type": "code",
   "execution_count": 27,
   "metadata": {},
   "outputs": [],
   "source": [
    "screenshots = np.array(training_data[:, 0]) / 255"
   ]
  },
  {
   "cell_type": "code",
   "execution_count": 28,
   "metadata": {},
   "outputs": [],
   "source": [
    "# SCRAPPED FOR NOW, ONLY 1 VELOCITY, BECAUSE VELOS ONLY CHANGE OVER LONGER TIMESCALE\n",
    "# Model: current image, 5 latest binned velocities\n",
    "\n",
    "# h = [1]\n",
    "# for k in range(number_bins - 1):\n",
    "#     h.append(0)\n",
    "# helper = [np.array(h) for _ in range(5)]\n",
    "# latest_five_binned_velocities = []\n",
    "# for k in range(4):\n",
    "#     _ = helper.pop(0)\n",
    "#     helper.append(velocities_binned_one_hot[k])\n",
    "#     latest_five_binned_velocities.append(helper.copy())\n",
    "# \n",
    "# for k in range(4, len(training_data)):\n",
    "#     latest_five_binned_velocities.append(velocities_binned_one_hot[k-4:k+1])"
   ]
  },
  {
   "cell_type": "code",
   "execution_count": 29,
   "metadata": {},
   "outputs": [],
   "source": [
    "# latest_five_binned_velocities[155]"
   ]
  },
  {
   "cell_type": "code",
   "execution_count": 30,
   "metadata": {},
   "outputs": [],
   "source": [
    "# velocities_binned_one_hot[100:200:25]"
   ]
  },
  {
   "cell_type": "code",
   "execution_count": 31,
   "metadata": {},
   "outputs": [],
   "source": []
  },
  {
   "cell_type": "code",
   "execution_count": 31,
   "metadata": {},
   "outputs": [],
   "source": [
    "np.save(r\"E:\\Trackmania Data\\training_data_new\\binned_velo_TEST.npy\", [screenshots, velocities_binned_one_hot, key_presses_one_hot])"
   ]
  },
  {
   "cell_type": "code",
   "execution_count": 32,
   "metadata": {},
   "outputs": [],
   "source": []
  }
 ],
 "metadata": {
  "kernelspec": {
   "display_name": "Python 3",
   "language": "python",
   "name": "python3"
  },
  "language_info": {
   "codemirror_mode": {
    "name": "ipython",
    "version": 3
   },
   "file_extension": ".py",
   "mimetype": "text/x-python",
   "name": "python",
   "nbconvert_exporter": "python",
   "pygments_lexer": "ipython3",
   "version": "3.6.5"
  }
 },
 "nbformat": 4,
 "nbformat_minor": 1
}
