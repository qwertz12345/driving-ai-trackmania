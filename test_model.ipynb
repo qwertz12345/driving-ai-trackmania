{
 "cells": [
  {
   "cell_type": "code",
   "execution_count": 2,
   "metadata": {
    "collapsed": false
   },
   "outputs": [],
   "source": [
    "import numpy as np\n",
    "from keras.models import load_model\n",
    "import matplotlib.pyplot as plt"
   ]
  },
  {
   "cell_type": "code",
   "execution_count": 3,
   "metadata": {},
   "outputs": [],
   "source": [
    "ar = np.load(r\"E:\\Trackmania Data\\training_data_new\\new_test_a03_mirrored.npy\")\n",
    "np.random.seed(1)\n",
    "np.random.shuffle(ar)\n",
    "x = ar[:, 0]\n",
    "aux = ar[:, 1]\n",
    "y = ar[:, 2]"
   ]
  },
  {
   "cell_type": "code",
   "execution_count": 4,
   "metadata": {},
   "outputs": [],
   "source": [
    "x = np.array([e for e in x])\n",
    "x = x / 255\n",
    "aux = np.array([e for e in aux])\n",
    "y = np.array([e for e in y])\n"
   ]
  },
  {
   "cell_type": "code",
   "execution_count": 5,
   "metadata": {},
   "outputs": [],
   "source": [
    "model = load_model(r\"C:\\Users\\mivog\\PycharmProjects\\driving ai trackmania\\all_data_changed model\")"
   ]
  },
  {
   "cell_type": "markdown",
   "metadata": {},
   "source": [
    "Find indices of instances key \"W\" or \"A\" pressed:"
   ]
  },
  {
   "cell_type": "code",
   "execution_count": 6,
   "metadata": {},
   "outputs": [],
   "source": [
    "d_or_a_ind = []\n",
    "for k, e in enumerate(y):\n",
    "    if e[2] == 1:\n",
    "        d_or_a_ind.append(k)\n",
    "    elif e[3] == 1:\n",
    "        d_or_a_ind.append(k)\n",
    "    elif e[1] == 1:\n",
    "        d_or_a_ind.append(k)"
   ]
  },
  {
   "cell_type": "markdown",
   "metadata": {},
   "source": [
    "Save images with keys \"W\" or \"A\" pressed with predictions given by the model:"
   ]
  },
  {
   "cell_type": "code",
   "execution_count": 7,
   "metadata": {},
   "outputs": [],
   "source": [
    "# nr = d_or_a_ind[7]\n",
    "for k, nr in enumerate(d_or_a_ind):\n",
    "    t = np.rint((x[nr] * 255)).astype('uint8')\n",
    "    description1 = \"Prediction 1: \" + str(np.around(model.predict([np.array([x[nr]]), np.array([aux[nr]])])[0][0], decimals=2)) + \"\\n\"\n",
    "    description2 = \"Prediction 2: \" + str(np.around(model.predict([np.array([x[nr]]), np.array([aux[nr]])])[1][0], decimals=2)) + \"\\n\"\n",
    "    description3 = \"keys pressed:\" + str(y[nr]) + \"\\n\"\n",
    "    description4 = \"velocity =\" + str(aux[nr])\n",
    "    description = description1 + description2 + description3 + description4\n",
    "    \n",
    "    plt.imshow(t)\n",
    "    plt.xlabel(description)\n",
    "    # plt.show()\n",
    "    save_path = r\"E:\\Trackmania Data\\training_data_new\\test_images\\\\\" + str(k) + \".png\" \n",
    "    plt.savefig(save_path)\n"
   ]
  }
 ],
 "metadata": {
  "kernelspec": {
   "display_name": "Python 2",
   "language": "python",
   "name": "python2"
  },
  "language_info": {
   "codemirror_mode": {
    "name": "ipython",
    "version": 2
   },
   "file_extension": ".py",
   "mimetype": "text/x-python",
   "name": "python",
   "nbconvert_exporter": "python",
   "pygments_lexer": "ipython2",
   "version": "2.7.6"
  }
 },
 "nbformat": 4,
 "nbformat_minor": 0
}
