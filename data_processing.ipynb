{
 "cells": [
  {
   "cell_type": "code",
   "execution_count": 11,
   "metadata": {},
   "outputs": [],
   "source": [
    "run_names = [\"a01_20180630-145845\", \"a01_20180702-163212\", \"a01_20180702-162702\", \"a01_20180703-191614\"]\n"
   ]
  },
  {
   "cell_type": "code",
   "execution_count": 12,
   "metadata": {},
   "outputs": [],
   "source": [
    "from pathlib import Path\n",
    "from PIL import Image"
   ]
  },
  {
   "cell_type": "code",
   "execution_count": 13,
   "metadata": {},
   "outputs": [],
   "source": [
    "base_dir = Path(r\"E:\\Trackmania Data\\data\")\n",
    "img_paths = [base_dir / Path(run) / Path(\"screenshots\") for run in run_names]"
   ]
  },
  {
   "cell_type": "code",
   "execution_count": 15,
   "metadata": {},
   "outputs": [
    {
     "data": {
      "text/plain": [
       "[WindowsPath('E:/Trackmania Data/data/a01_20180630-145845/screenshots'),\n WindowsPath('E:/Trackmania Data/data/a01_20180702-163212/screenshots'),\n WindowsPath('E:/Trackmania Data/data/a01_20180702-162702/screenshots'),\n WindowsPath('E:/Trackmania Data/data/a01_20180703-191614/screenshots')]"
      ]
     },
     "execution_count": 15,
     "metadata": {},
     "output_type": "execute_result"
    }
   ],
   "source": [
    "img_paths"
   ]
  },
  {
   "cell_type": "code",
   "execution_count": 16,
   "metadata": {},
   "outputs": [],
   "source": [
    "for path in img_paths:\n",
    "    for e in path.iterdir():\n",
    "        im = Image.open(e).crop(box=(0, 0, 800, 320)).resize((400, 160), Image.LANCZOS)\n",
    "        im.save(e)"
   ]
  },
  {
   "cell_type": "code",
   "execution_count": null,
   "metadata": {},
   "outputs": [],
   "source": []
  }
 ],
 "metadata": {
  "kernelspec": {
   "display_name": "Python 3",
   "language": "python",
   "name": "python3"
  },
  "language_info": {
   "codemirror_mode": {
    "name": "ipython",
    "version": 3
   },
   "file_extension": ".py",
   "mimetype": "text/x-python",
   "name": "python",
   "nbconvert_exporter": "python",
   "pygments_lexer": "ipython3",
   "version": "3.6.5"
  }
 },
 "nbformat": 4,
 "nbformat_minor": 1
}
