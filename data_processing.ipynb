{
 "cells": [
  {
   "cell_type": "code",
   "execution_count": 44,
   "metadata": {},
   "outputs": [],
   "source": [
    "import os\n",
    "\n",
    "import matplotlib.pyplot as plt\n",
    "import numpy as np\n",
    "import pandas as pd\n",
    "from PIL import Image\n",
    "from keras.models import load_model\n",
    "from recognize_numbers import recognize\n"
   ]
  },
  {
   "cell_type": "code",
   "execution_count": 45,
   "metadata": {},
   "outputs": [
    {
     "name": "stdout",
     "output_type": "stream",
     "text": [
      "Loading data\n"
     ]
    },
    {
     "name": "stdout",
     "output_type": "stream",
     "text": [
      "Data with length 4462 loaded\n"
     ]
    }
   ],
   "source": [
    "def load_data(training_data_directory):\n",
    "    print(\"Loading data\")\n",
    "    file_name = os.path.join(training_data_directory, \"new_test_data_a03.npy\")\n",
    "    training_data1 = np.load(file_name)\n",
    "    file_name = os.path.join(training_data_directory, \"training_data-1_1.npy\")\n",
    "    training_data2 = np.load(file_name)\n",
    "    file_name = os.path.join(training_data_directory, \"test_data-1.npy\")\n",
    "    training_data3 = np.load(file_name)\n",
    "\n",
    "    return np.concatenate((training_data1, training_data2, training_data3))\n",
    "\n",
    "\n",
    "training_data = load_data(r\"E:\\Trackmania Data\\training_data_new\")\n",
    "print(\"Data with length\", len(training_data), \"loaded\")"
   ]
  },
  {
   "cell_type": "markdown",
   "metadata": {},
   "source": [
    "Split images of velocities in three parts (3 digits):"
   ]
  },
  {
   "cell_type": "code",
   "execution_count": 46,
   "metadata": {},
   "outputs": [],
   "source": [
    "velocity_images = training_data[:, 1]\n",
    "img_digits = [Image.new(\"RGB\", (18, 32)) for _ in range(3 * len(velocity_images))] \n",
    "for i in range(len(velocity_images)):\n",
    "    img_digits[3 * i].paste(Image.fromarray(velocity_images[i][:, :18]))\n",
    "    img_digits[3 * i + 1].paste(Image.fromarray(velocity_images[i][:, 17:35]))\n",
    "    img_digits[3 * i + 2].paste(Image.fromarray(velocity_images[i][:, 35:53]))\n",
    "img_digits = [np.asarray(e) for e in img_digits]"
   ]
  },
  {
   "cell_type": "markdown",
   "metadata": {},
   "source": [
    "Determine each digit individually:"
   ]
  },
  {
   "cell_type": "code",
   "execution_count": 47,
   "metadata": {},
   "outputs": [],
   "source": [
    "velo_recognition_model = load_model(r\"C:\\Users\\mivog\\PycharmProjects\\driving ai trackmania\\velocity_recognition-100.h5\")\n",
    "digits_with_confidence_value = recognize(np.array(img_digits)/255, velo_recognition_model)"
   ]
  },
  {
   "cell_type": "markdown",
   "metadata": {},
   "source": [
    "Recombine digits to a 3 digits number:"
   ]
  },
  {
   "cell_type": "code",
   "execution_count": 48,
   "metadata": {},
   "outputs": [],
   "source": [
    "velocities = [int('{}{}{}'.format(digits_with_confidence_value[3 * i][0], digits_with_confidence_value[3 * i + 1][0],\n",
    "                                  digits_with_confidence_value[3 * i + 2][0]))\n",
    "              for i in range(len(velocity_images))]\n"
   ]
  },
  {
   "cell_type": "code",
   "execution_count": 49,
   "metadata": {},
   "outputs": [
    {
     "data": {
      "text/plain": [
       "0"
      ]
     },
     "execution_count": 49,
     "metadata": {},
     "output_type": "execute_result"
    }
   ],
   "source": [
    "min(velocities)"
   ]
  },
  {
   "cell_type": "code",
   "execution_count": 50,
   "metadata": {},
   "outputs": [
    {
     "data": {
      "text/plain": [
       "484"
      ]
     },
     "execution_count": 50,
     "metadata": {},
     "output_type": "execute_result"
    }
   ],
   "source": [
    "max(velocities)"
   ]
  },
  {
   "cell_type": "markdown",
   "metadata": {},
   "source": [
    "Encode key presses into array of length 4 like this: \"WA\" --> [1, 0, 1, 0]"
   ]
  },
  {
   "cell_type": "code",
   "execution_count": 51,
   "metadata": {},
   "outputs": [],
   "source": [
    "key_presses = training_data[:, 2]\n",
    "\n",
    "\n",
    "def one_hot(keys):\n",
    "    key_dict = {\n",
    "        \"W\": 0,\n",
    "        \"S\": 1,\n",
    "        \"A\": 2,\n",
    "        \"D\": 3\n",
    "    }\n",
    "    ar = [0] * 4\n",
    "    for key in keys:\n",
    "        ar[key_dict[key]] = 1\n",
    "    return ar\n",
    "\n",
    "\n",
    "key_presses_one_hot = [one_hot(e) for e in key_presses]\n"
   ]
  },
  {
   "cell_type": "code",
   "execution_count": 52,
   "metadata": {},
   "outputs": [],
   "source": [
    "da = pd.DataFrame({'Velocities': pd.Series(velocities), \"W\": pd.Series([e[0] for e in key_presses_one_hot]),\n",
    "                   \"S\": pd.Series([e[1] for e in key_presses_one_hot]),\n",
    "                   \"A\": pd.Series([e[2] for e in key_presses_one_hot]),\n",
    "                   \"D\": pd.Series([e[3] for e in key_presses_one_hot])})\n"
   ]
  },
  {
   "cell_type": "code",
   "execution_count": 53,
   "metadata": {},
   "outputs": [],
   "source": [
    "plt.imshow(training_data[0, 0])\n",
    "plt.show()\n"
   ]
  },
  {
   "cell_type": "code",
   "execution_count": 54,
   "metadata": {},
   "outputs": [],
   "source": [
    "plt.plot(velocities)\n",
    "plt.show()"
   ]
  },
  {
   "cell_type": "code",
   "execution_count": 55,
   "metadata": {},
   "outputs": [],
   "source": [
    "velocities_diff = np.diff(velocities)\n"
   ]
  },
  {
   "cell_type": "code",
   "execution_count": 56,
   "metadata": {},
   "outputs": [],
   "source": [
    "plt.plot(velocities_diff)\n",
    "# plt.ylim([-5, 5])\n",
    "plt.show()"
   ]
  },
  {
   "cell_type": "code",
   "execution_count": 57,
   "metadata": {},
   "outputs": [
    {
     "data": {
      "text/plain": [
       "0.08271687962340282"
      ]
     },
     "execution_count": 57,
     "metadata": {},
     "output_type": "execute_result"
    }
   ],
   "source": [
    "np.mean(velocities_diff)"
   ]
  },
  {
   "cell_type": "markdown",
   "metadata": {},
   "source": [
    "Define the bins for the velocity values:"
   ]
  },
  {
   "cell_type": "code",
   "execution_count": 58,
   "metadata": {},
   "outputs": [
    {
     "name": "stdout",
     "output_type": "stream",
     "text": [
      "number of bins: 16\n[  1.      28.6875  56.375   84.0625 111.75   139.4375 167.125  194.8125\n 222.5    250.1875 277.875  305.5625 333.25   360.9375 388.625  416.3125\n 444.    ]\n"
     ]
    }
   ],
   "source": [
    "# n, bin_edges, _ = plt.hist(velocities, 'auto')\n",
    "bin_edges = np.array(np.mat('1. 28.6875 56.375 84.0625 111.75 139.4375 167.125 194.8125 222.5 250.1875 277.875 305.5625 333.25 360.9375 388.625 416.3125 444')).flatten()\n",
    "plt.hist(velocities, bin_edges)\n",
    "number_bins = len(bin_edges) - 1\n",
    "print(\"number of bins:\", number_bins)\n",
    "print(bin_edges)\n",
    "plt.show()"
   ]
  },
  {
   "cell_type": "code",
   "execution_count": 59,
   "metadata": {},
   "outputs": [],
   "source": [
    "bin_ind = np.digitize(velocities, bin_edges) - 1\n",
    "for k, ind in enumerate(bin_ind):\n",
    "    if ind == number_bins:\n",
    "        bin_ind[k] -= 1 \n",
    "velocities_binned_one_hot = []\n",
    "for ind in bin_ind:\n",
    "    one_hot_vector = np.zeros(number_bins)\n",
    "    one_hot_vector[ind] = 1 \n",
    "    velocities_binned_one_hot.append(one_hot_vector)"
   ]
  },
  {
   "cell_type": "code",
   "execution_count": 60,
   "metadata": {},
   "outputs": [],
   "source": [
    "da = pd.DataFrame({'Velocities': pd.Series(velocities), \n",
    "                   \"W\": pd.Series([e[0] for e in key_presses_one_hot]),\n",
    "                   \"S\": pd.Series([e[1] for e in key_presses_one_hot]),\n",
    "                   \"A\": pd.Series([e[2] for e in key_presses_one_hot]),\n",
    "                   \"D\": pd.Series([e[3] for e in key_presses_one_hot]),\n",
    "                   \"Velocities_binned\": pd.Series(np.digitize(velocities, bin_edges))})\n"
   ]
  },
  {
   "cell_type": "code",
   "execution_count": 61,
   "metadata": {},
   "outputs": [
    {
     "data": {
      "text/html": [
       "<div>\n",
       "<style scoped>\n",
       "    .dataframe tbody tr th:only-of-type {\n",
       "        vertical-align: middle;\n",
       "    }\n",
       "\n",
       "    .dataframe tbody tr th {\n",
       "        vertical-align: top;\n",
       "    }\n",
       "\n",
       "    .dataframe thead th {\n",
       "        text-align: right;\n",
       "    }\n",
       "</style>\n",
       "<table border=\"1\" class=\"dataframe\">\n",
       "  <thead>\n",
       "    <tr style=\"text-align: right;\">\n",
       "      <th></th>\n",
       "      <th>Velocities</th>\n",
       "      <th>W</th>\n",
       "      <th>S</th>\n",
       "      <th>A</th>\n",
       "      <th>D</th>\n",
       "      <th>Velocities_binned</th>\n",
       "    </tr>\n",
       "  </thead>\n",
       "  <tbody>\n",
       "    <tr>\n",
       "      <th>Velocities</th>\n",
       "      <td>1.000000</td>\n",
       "      <td>0.022579</td>\n",
       "      <td>NaN</td>\n",
       "      <td>0.219879</td>\n",
       "      <td>-0.129247</td>\n",
       "      <td>0.997188</td>\n",
       "    </tr>\n",
       "    <tr>\n",
       "      <th>W</th>\n",
       "      <td>0.022579</td>\n",
       "      <td>1.000000</td>\n",
       "      <td>NaN</td>\n",
       "      <td>-0.109149</td>\n",
       "      <td>0.035987</td>\n",
       "      <td>0.019946</td>\n",
       "    </tr>\n",
       "    <tr>\n",
       "      <th>S</th>\n",
       "      <td>NaN</td>\n",
       "      <td>NaN</td>\n",
       "      <td>NaN</td>\n",
       "      <td>NaN</td>\n",
       "      <td>NaN</td>\n",
       "      <td>NaN</td>\n",
       "    </tr>\n",
       "    <tr>\n",
       "      <th>A</th>\n",
       "      <td>0.219879</td>\n",
       "      <td>-0.109149</td>\n",
       "      <td>NaN</td>\n",
       "      <td>1.000000</td>\n",
       "      <td>-0.108124</td>\n",
       "      <td>0.225013</td>\n",
       "    </tr>\n",
       "    <tr>\n",
       "      <th>D</th>\n",
       "      <td>-0.129247</td>\n",
       "      <td>0.035987</td>\n",
       "      <td>NaN</td>\n",
       "      <td>-0.108124</td>\n",
       "      <td>1.000000</td>\n",
       "      <td>-0.124611</td>\n",
       "    </tr>\n",
       "    <tr>\n",
       "      <th>Velocities_binned</th>\n",
       "      <td>0.997188</td>\n",
       "      <td>0.019946</td>\n",
       "      <td>NaN</td>\n",
       "      <td>0.225013</td>\n",
       "      <td>-0.124611</td>\n",
       "      <td>1.000000</td>\n",
       "    </tr>\n",
       "  </tbody>\n",
       "</table>\n",
       "</div>"
      ],
      "text/plain": [
       "<div>\n",
       "<style scoped>\n",
       "    .dataframe tbody tr th:only-of-type {\n",
       "        vertical-align: middle;\n",
       "    }\n",
       "\n",
       "    .dataframe tbody tr th {\n",
       "        vertical-align: top;\n",
       "    }\n",
       "\n",
       "    .dataframe thead th {\n",
       "        text-align: right;\n",
       "    }\n",
       "</style>\n",
       "<table border=\"1\" class=\"dataframe\">\n",
       "  <thead>\n",
       "    <tr style=\"text-align: right;\">\n",
       "      <th></th>\n",
       "      <th>Velocities</th>\n",
       "      <th>W</th>\n",
       "      <th>S</th>\n",
       "      <th>A</th>\n",
       "      <th>D</th>\n",
       "      <th>Velocities_binned</th>\n",
       "    </tr>\n",
       "  </thead>\n",
       "  <tbody>\n",
       "    <tr>\n",
       "      <th>Velocities</th>\n",
       "      <td>1.000000</td>\n",
       "      <td>0.022579</td>\n",
       "      <td>NaN</td>\n",
       "      <td>0.219879</td>\n",
       "      <td>-0.129247</td>\n",
       "      <td>0.997188</td>\n",
       "    </tr>\n",
       "    <tr>\n",
       "      <th>W</th>\n",
       "      <td>0.022579</td>\n",
       "      <td>1.000000</td>\n",
       "      <td>NaN</td>\n",
       "      <td>-0.109149</td>\n",
       "      <td>0.035987</td>\n",
       "      <td>0.019946</td>\n",
       "    </tr>\n",
       "    <tr>\n",
       "      <th>S</th>\n",
       "      <td>NaN</td>\n",
       "      <td>NaN</td>\n",
       "      <td>NaN</td>\n",
       "      <td>NaN</td>\n",
       "      <td>NaN</td>\n",
       "      <td>NaN</td>\n",
       "    </tr>\n",
       "    <tr>\n",
       "      <th>A</th>\n",
       "      <td>0.219879</td>\n",
       "      <td>-0.109149</td>\n",
       "      <td>NaN</td>\n",
       "      <td>1.000000</td>\n",
       "      <td>-0.108124</td>\n",
       "      <td>0.225013</td>\n",
       "    </tr>\n",
       "    <tr>\n",
       "      <th>D</th>\n",
       "      <td>-0.129247</td>\n",
       "      <td>0.035987</td>\n",
       "      <td>NaN</td>\n",
       "      <td>-0.108124</td>\n",
       "      <td>1.000000</td>\n",
       "      <td>-0.124611</td>\n",
       "    </tr>\n",
       "    <tr>\n",
       "      <th>Velocities_binned</th>\n",
       "      <td>0.997188</td>\n",
       "      <td>0.019946</td>\n",
       "      <td>NaN</td>\n",
       "      <td>0.225013</td>\n",
       "      <td>-0.124611</td>\n",
       "      <td>1.000000</td>\n",
       "    </tr>\n",
       "  </tbody>\n",
       "</table>\n",
       "</div>"
      ]
     },
     "execution_count": 61,
     "metadata": {},
     "output_type": "execute_result"
    }
   ],
   "source": [
    "da.corr()"
   ]
  },
  {
   "cell_type": "code",
   "execution_count": 62,
   "metadata": {},
   "outputs": [
    {
     "data": {
      "text/plain": [
       "(4462,)"
      ]
     },
     "execution_count": 62,
     "metadata": {},
     "output_type": "execute_result"
    }
   ],
   "source": [
    "training_data[:, 2].shape"
   ]
  },
  {
   "cell_type": "code",
   "execution_count": 63,
   "metadata": {},
   "outputs": [],
   "source": [
    "screenshots = training_data[:, 0]"
   ]
  },
  {
   "cell_type": "code",
   "execution_count": 64,
   "metadata": {},
   "outputs": [],
   "source": [
    "import cv2"
   ]
  },
  {
   "cell_type": "code",
   "execution_count": 65,
   "metadata": {},
   "outputs": [
    {
     "name": "stdout",
     "output_type": "stream",
     "text": [
      "<class 'numpy.ndarray'>\n<class 'list'>\n<class 'list'>\n"
     ]
    }
   ],
   "source": [
    "print(type(screenshots))\n",
    "print(type(velocities_binned_one_hot))\n",
    "print(type(key_presses_one_hot))"
   ]
  },
  {
   "cell_type": "code",
   "execution_count": 66,
   "metadata": {},
   "outputs": [
    {
     "data": {
      "text/plain": [
       "(4462,)"
      ]
     },
     "execution_count": 66,
     "metadata": {},
     "output_type": "execute_result"
    }
   ],
   "source": [
    "screenshots.shape"
   ]
  },
  {
   "cell_type": "markdown",
   "metadata": {},
   "source": [
    "Create mirror images with mirrored key presses:"
   ]
  },
  {
   "cell_type": "code",
   "execution_count": 67,
   "metadata": {},
   "outputs": [],
   "source": [
    "screenshots_mirrored = []\n",
    "unchanged_velocities = []\n",
    "changed_key_presses = []\n",
    "for k, im in enumerate(screenshots):\n",
    "    screenshots_mirrored.append(cv2.flip(im, flipCode=1))\n",
    "    press = key_presses_one_hot[k]\n",
    "    new_press = [press[0], press[1], 0, 0]\n",
    "    if press[2] == 1:\n",
    "        new_press[2] = 0\n",
    "        new_press[3] = 1\n",
    "    elif press[3] == 1:\n",
    "        new_press[3] = 0\n",
    "        new_press[2] = 1\n",
    "    changed_key_presses.append(new_press)\n",
    "    unchanged_velocities.append(velocities_binned_one_hot[k])"
   ]
  },
  {
   "cell_type": "code",
   "execution_count": 68,
   "metadata": {},
   "outputs": [
    {
     "data": {
      "text/plain": [
       "(4462, 40, 150, 3)"
      ]
     },
     "execution_count": 68,
     "metadata": {},
     "output_type": "execute_result"
    }
   ],
   "source": [
    "np.array(screenshots_mirrored).shape"
   ]
  },
  {
   "cell_type": "code",
   "execution_count": 69,
   "metadata": {},
   "outputs": [
    {
     "data": {
      "text/plain": [
       "(4462,)"
      ]
     },
     "execution_count": 69,
     "metadata": {},
     "output_type": "execute_result"
    }
   ],
   "source": [
    "screenshots.shape\n"
   ]
  },
  {
   "cell_type": "code",
   "execution_count": 70,
   "metadata": {},
   "outputs": [],
   "source": [
    "screenshots_copy = screenshots.copy()"
   ]
  },
  {
   "cell_type": "code",
   "execution_count": 71,
   "metadata": {},
   "outputs": [],
   "source": [
    "screenshots = np.empty((screenshots_copy.shape[0], screenshots_copy[0].shape[0], screenshots_copy[0].shape[1], screenshots_copy[0].shape[2]))"
   ]
  },
  {
   "cell_type": "code",
   "execution_count": 72,
   "metadata": {},
   "outputs": [],
   "source": [
    "for k in range(len(screenshots_copy)):\n",
    "    screenshots[k] = screenshots_copy[k]"
   ]
  },
  {
   "cell_type": "code",
   "execution_count": 73,
   "metadata": {},
   "outputs": [],
   "source": [
    "screenshots = np.concatenate((screenshots, np.array(screenshots_mirrored)))\n",
    "velocities_binned_one_hot = velocities_binned_one_hot + unchanged_velocities\n",
    "key_presses_one_hot = key_presses_one_hot + changed_key_presses"
   ]
  },
  {
   "cell_type": "code",
   "execution_count": 74,
   "metadata": {},
   "outputs": [],
   "source": [
    "save_name = \"gesamt_processed\"\n",
    "# save_name = \"training_binned\"\n",
    "file_path = r\"E:\\Trackmania Data\\training_data_new\\\\\" + save_name + \".npy\""
   ]
  },
  {
   "cell_type": "code",
   "execution_count": 75,
   "metadata": {},
   "outputs": [
    {
     "data": {
      "text/plain": [
       "(16,)"
      ]
     },
     "execution_count": 75,
     "metadata": {},
     "output_type": "execute_result"
    }
   ],
   "source": [
    "np.array(velocities_binned_one_hot[k]).shape"
   ]
  },
  {
   "cell_type": "code",
   "execution_count": 76,
   "metadata": {},
   "outputs": [],
   "source": [
    "data_points = np.array([np.array([screenshots[k], np.array(velocities_binned_one_hot[k]), np.array(key_presses_one_hot[k])]) for k in range(len(screenshots))])"
   ]
  },
  {
   "cell_type": "code",
   "execution_count": 77,
   "metadata": {},
   "outputs": [
    {
     "data": {
      "text/plain": [
       "(8924, 3)"
      ]
     },
     "execution_count": 77,
     "metadata": {},
     "output_type": "execute_result"
    }
   ],
   "source": [
    "data_points.shape"
   ]
  },
  {
   "cell_type": "code",
   "execution_count": 78,
   "metadata": {},
   "outputs": [],
   "source": [
    "np.save(file_path, data_points)"
   ]
  },
  {
   "cell_type": "code",
   "execution_count": 79,
   "metadata": {},
   "outputs": [],
   "source": [
    "# import random as r\n",
    "# sample = r.choices(data_points, k=500)\n",
    "# for k, nr in enumerate(sample):\n",
    "#     description = \"Key pressed: {}\".format(nr[2])\n",
    "#     plt.imshow(nr[0].astype('uint8'))\n",
    "#     plt.xlabel(description)\n",
    "#     save_path = r\"E:\\Trackmania Data\\training_data_new\\test_images_mirror\\\\\" + str(k) + \".png\" \n",
    "#     plt.savefig(save_path)"
   ]
  },
  {
   "cell_type": "code",
   "execution_count": 80,
   "metadata": {},
   "outputs": [],
   "source": []
  }
 ],
 "metadata": {
  "kernelspec": {
   "display_name": "Python 3",
   "language": "python",
   "name": "python3"
  },
  "language_info": {
   "codemirror_mode": {
    "name": "ipython",
    "version": 3
   },
   "file_extension": ".py",
   "mimetype": "text/x-python",
   "name": "python",
   "nbconvert_exporter": "python",
   "pygments_lexer": "ipython3",
   "version": "3.6.5"
  }
 },
 "nbformat": 4,
 "nbformat_minor": 1
}
